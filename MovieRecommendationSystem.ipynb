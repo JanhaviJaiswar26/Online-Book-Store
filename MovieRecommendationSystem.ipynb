{
  "nbformat": 4,
  "nbformat_minor": 0,
  "metadata": {
    "colab": {
      "private_outputs": true,
      "provenance": [],
      "authorship_tag": "ABX9TyM6ZF3d5MCZxbYAoiJ8PAyK",
      "include_colab_link": true
    },
    "kernelspec": {
      "name": "python3",
      "display_name": "Python 3"
    },
    "language_info": {
      "name": "python"
    }
  },
  "cells": [
    {
      "cell_type": "markdown",
      "metadata": {
        "id": "view-in-github",
        "colab_type": "text"
      },
      "source": [
        "<a href=\"https://colab.research.google.com/github/JanhaviJaiswar26/Online-Book-Store/blob/master/MovieRecommendationSystem.ipynb\" target=\"_parent\"><img src=\"https://colab.research.google.com/assets/colab-badge.svg\" alt=\"Open In Colab\"/></a>"
      ]
    },
    {
      "cell_type": "code",
      "execution_count": null,
      "metadata": {
        "id": "xHcfz6VmVvFs"
      },
      "outputs": [],
      "source": [
        "import pandas as pd\n",
        "import numpy as np"
      ]
    },
    {
      "cell_type": "code",
      "source": [
        "movies = pd.read_csv('/content/Movies.csv')\n",
        "credits = pd.read_csv('/content/MoviesCredits.csv')"
      ],
      "metadata": {
        "id": "sfi4fPLCTN-k"
      },
      "execution_count": null,
      "outputs": []
    },
    {
      "cell_type": "code",
      "source": [
        "movies.head(10)"
      ],
      "metadata": {
        "id": "GB_YsTMMjETd"
      },
      "execution_count": null,
      "outputs": []
    },
    {
      "cell_type": "code",
      "source": [
        "credits.head(10)"
      ],
      "metadata": {
        "id": "4Ndx6GJjjHPL"
      },
      "execution_count": null,
      "outputs": []
    },
    {
      "cell_type": "code",
      "source": [
        "movies.shape"
      ],
      "metadata": {
        "id": "GmVQwZH8jQHm"
      },
      "execution_count": null,
      "outputs": []
    },
    {
      "cell_type": "code",
      "source": [
        "credits.shape"
      ],
      "metadata": {
        "id": "zAkonH9BkU__"
      },
      "execution_count": null,
      "outputs": []
    },
    {
      "cell_type": "code",
      "source": [
        "movies.info()"
      ],
      "metadata": {
        "id": "agD4-IY2kXhA"
      },
      "execution_count": null,
      "outputs": []
    },
    {
      "cell_type": "code",
      "source": [
        "credits.info()"
      ],
      "metadata": {
        "id": "mJOPko5MkhMf"
      },
      "execution_count": null,
      "outputs": []
    },
    {
      "cell_type": "code",
      "source": [
        "#merge both the adat set onto title\n",
        "\n",
        "movies=movies.merge(credits,on='title')\n",
        "movies"
      ],
      "metadata": {
        "id": "WINdgEwEkjxa"
      },
      "execution_count": null,
      "outputs": []
    },
    {
      "cell_type": "code",
      "source": [
        "\n",
        "\n",
        "#movies =movies.drop(['crew_y','movie_id_y','cast_y'],axis=1)\n",
        "movies=movies.rename(columns={'crew_x':'crew','movie_id_x':'movie_id','cast_x':'cast'})\n"
      ],
      "metadata": {
        "id": "qM8_qznTk9hn"
      },
      "execution_count": null,
      "outputs": []
    },
    {
      "cell_type": "code",
      "source": [
        "#extracting the required columns\n",
        "\n",
        "movies = movies[['movie_id','title','overview','genres','keywords','cast','crew']]\n",
        "movies.head(10)"
      ],
      "metadata": {
        "id": "CnJQ9mNllaTt"
      },
      "execution_count": null,
      "outputs": []
    },
    {
      "cell_type": "code",
      "source": [
        "#function for formatting the columns\n",
        "\n",
        "import ast\n",
        "def convert(text):\n",
        "    a = []\n",
        "    for i in ast.literal_eval(text):\n",
        "        a.append(i['name'])\n",
        "    return a"
      ],
      "metadata": {
        "id": "qSsdTi6vovCg"
      },
      "execution_count": null,
      "outputs": []
    },
    {
      "cell_type": "code",
      "source": [
        "movies.isna().sum()"
      ],
      "metadata": {
        "id": "VXXXQAaPo67u"
      },
      "execution_count": null,
      "outputs": []
    },
    {
      "cell_type": "code",
      "source": [
        "movies.dropna(inplace=True)\n"
      ],
      "metadata": {
        "id": "gW75BM-wo_Aj"
      },
      "execution_count": null,
      "outputs": []
    },
    {
      "cell_type": "code",
      "source": [
        "movies['genres'] = movies['genres'].apply(convert)\n",
        "movies.head()"
      ],
      "metadata": {
        "id": "xsB71x56pMfM"
      },
      "execution_count": null,
      "outputs": []
    },
    {
      "cell_type": "code",
      "source": [
        "movies['keywords'] = movies['keywords'].apply(convert)\n",
        "movies.head()"
      ],
      "metadata": {
        "id": "Hpfi7RFQpnMu"
      },
      "execution_count": null,
      "outputs": []
    },
    {
      "cell_type": "code",
      "source": [
        "\n",
        "ast.literal_eval('[{\"id\": 28, \"name\": \"Action\"}, {\"id\": 12, \"name\": \"Adventure\"}, {\"id\": 14, \"name\": \"Fantasy\"}, {\"id\": 878, \"name\": \"Science Fiction\"}]')"
      ],
      "metadata": {
        "id": "yL_K1pBdp01v"
      },
      "execution_count": null,
      "outputs": []
    },
    {
      "cell_type": "code",
      "source": [
        "#function to get the 3 most cast names\n",
        "\n",
        "def convert3(text):\n",
        "    L = []\n",
        "    counter = 0\n",
        "    for i in ast.literal_eval(text):\n",
        "        if counter < 3:\n",
        "            L.append(i['name'])\n",
        "        counter+=1\n",
        "    return L"
      ],
      "metadata": {
        "id": "i9bqHbHNqJ7H"
      },
      "execution_count": null,
      "outputs": []
    },
    {
      "cell_type": "code",
      "source": [
        "movies['cast'] = movies['cast'].apply(convert)\n",
        "movies.head()"
      ],
      "metadata": {
        "id": "GBc0x2jvqSqe"
      },
      "execution_count": null,
      "outputs": []
    },
    {
      "cell_type": "code",
      "source": [
        "movies['cast'] = movies['cast'].apply(lambda x:x[0:3])\n",
        "movies.head(10)"
      ],
      "metadata": {
        "id": "bkOqYLlYqZfy"
      },
      "execution_count": null,
      "outputs": []
    },
    {
      "cell_type": "code",
      "source": [
        "#function for extraction only the director name form the list\n",
        "\n",
        "def fetch_director(text):\n",
        "    L = []\n",
        "    for i in ast.literal_eval(text):\n",
        "        if i['job'] == 'Director':\n",
        "            L.append(i['name'])\n",
        "    return L"
      ],
      "metadata": {
        "id": "pP0Mbm6uqh-w"
      },
      "execution_count": null,
      "outputs": []
    },
    {
      "cell_type": "code",
      "source": [
        "movies['crew'] = movies['crew'].apply(fetch_director)\n",
        "movies.head(10)"
      ],
      "metadata": {
        "id": "QH1WWxISqm5i"
      },
      "execution_count": null,
      "outputs": []
    },
    {
      "cell_type": "code",
      "source": [
        "movies.sample(5)"
      ],
      "metadata": {
        "id": "s0AJrDa5qpMl"
      },
      "execution_count": null,
      "outputs": []
    },
    {
      "cell_type": "code",
      "source": [
        "#function for removing the space from the names\n",
        "\n",
        "\n",
        "def collapse(L):\n",
        "    L1 = []\n",
        "    for i in L:\n",
        "        L1.append(i.replace(\" \",\"\"))\n",
        "    return L1"
      ],
      "metadata": {
        "id": "KZIe2LmgrPSy"
      },
      "execution_count": null,
      "outputs": []
    },
    {
      "cell_type": "code",
      "source": [
        "movies['cast'] = movies['cast'].apply(collapse)\n",
        "movies['crew'] = movies['crew'].apply(collapse)\n",
        "movies['genres'] = movies['genres'].apply(collapse)\n",
        "movies['keywords'] = movies['keywords'].apply(collapse)"
      ],
      "metadata": {
        "id": "kgg7XadarcKk"
      },
      "execution_count": null,
      "outputs": []
    },
    {
      "cell_type": "code",
      "source": [
        "movies.head(10)"
      ],
      "metadata": {
        "id": "ZrGmr8DEreBT"
      },
      "execution_count": null,
      "outputs": []
    },
    {
      "cell_type": "code",
      "source": [
        "movies['overview'] = movies['overview'].apply(lambda x:x.split())\n",
        "movies.head(5)"
      ],
      "metadata": {
        "id": "RQxpRqRArpgW"
      },
      "execution_count": null,
      "outputs": []
    },
    {
      "cell_type": "code",
      "source": [
        "#making tags from all the columns for specification\n",
        "\n",
        "\n",
        "movies['tags'] = movies['overview'] + movies['genres'] + movies['keywords'] + movies['cast'] + movies['crew']\n",
        "movies.head(5)"
      ],
      "metadata": {
        "id": "8OIi2Ykur2EG"
      },
      "execution_count": null,
      "outputs": []
    },
    {
      "cell_type": "code",
      "source": [
        "new = movies.drop(columns=['overview','genres','keywords','cast','crew'])\n",
        "new.head(5)"
      ],
      "metadata": {
        "id": "eDvB_BMSsBPV"
      },
      "execution_count": null,
      "outputs": []
    },
    {
      "cell_type": "code",
      "source": [
        "new['tags'] = new['tags'].apply(lambda x: \" \".join(x))\n",
        "new.head()"
      ],
      "metadata": {
        "id": "FE7rbWx2scrp"
      },
      "execution_count": null,
      "outputs": []
    },
    {
      "cell_type": "code",
      "source": [
        "from sklearn.feature_extraction.text import CountVectorizer\n",
        "cv = CountVectorizer(max_features=5000,stop_words='english')\n",
        "vector = cv.fit_transform(new['tags']).toarray()"
      ],
      "metadata": {
        "id": "lZ3F0lLLsgUr"
      },
      "execution_count": null,
      "outputs": []
    },
    {
      "cell_type": "code",
      "source": [
        "vector.shape"
      ],
      "metadata": {
        "id": "oygkT2AmtH1s"
      },
      "execution_count": null,
      "outputs": []
    },
    {
      "cell_type": "code",
      "source": [
        "from sklearn.metrics.pairwise import cosine_similarity\n",
        "similarity = cosine_similarity(vector)\n",
        "similarity"
      ],
      "metadata": {
        "id": "4B1v0bbbtKtN"
      },
      "execution_count": null,
      "outputs": []
    },
    {
      "cell_type": "code",
      "source": [
        "new[new['title'] == 'The Lego Movie'].index[0]"
      ],
      "metadata": {
        "id": "en9CoCGLtOLz"
      },
      "execution_count": null,
      "outputs": []
    },
    {
      "cell_type": "code",
      "source": [
        "def recommend(movie):\n",
        "    index = new[new['title'] == movie].index[0]\n",
        "    distances = sorted(list(enumerate(similarity[index])),reverse=True,key = lambda x: x[1])\n",
        "    for i in distances[1:6]:\n",
        "        print(new.iloc[i[0]].title)\n",
        "\n"
      ],
      "metadata": {
        "id": "F8wA8yPhtYk2"
      },
      "execution_count": null,
      "outputs": []
    },
    {
      "cell_type": "code",
      "source": [
        "recommend('Avatar')"
      ],
      "metadata": {
        "id": "bnEu-gR1tifY"
      },
      "execution_count": null,
      "outputs": []
    },
    {
      "cell_type": "code",
      "source": [
        "import pickle\n",
        "pickle.dump(new,open('movie_list.pkl','wb'))\n",
        "pickle.dump(similarity,open('similarity.pkl','wb'))"
      ],
      "metadata": {
        "id": "4h4nnkNmtlNi"
      },
      "execution_count": null,
      "outputs": []
    },
    {
      "cell_type": "markdown",
      "source": [
        "# **Sentiment Analysis**"
      ],
      "metadata": {
        "id": "_Wgk7_ZXoso-"
      }
    },
    {
      "cell_type": "code",
      "source": [
        "import pandas as pd\n",
        "import numpy as np\n"
      ],
      "metadata": {
        "id": "LRLEE1ZToq1G"
      },
      "execution_count": null,
      "outputs": []
    },
    {
      "cell_type": "code",
      "source": [
        "df=pd.read_csv('/content/Reviews.csv')\n",
        "df.head(1)"
      ],
      "metadata": {
        "id": "tLPjUMISqD0A"
      },
      "execution_count": null,
      "outputs": []
    },
    {
      "cell_type": "code",
      "source": [
        "df['review'][0]"
      ],
      "metadata": {
        "id": "XSNv-wxLq8cv"
      },
      "execution_count": null,
      "outputs": []
    },
    {
      "cell_type": "code",
      "source": [
        "df.info()"
      ],
      "metadata": {
        "id": "QCvJKYwzw1nI"
      },
      "execution_count": null,
      "outputs": []
    },
    {
      "cell_type": "code",
      "source": [
        "df.shape"
      ],
      "metadata": {
        "id": "Qs6Gy-DRxVIK"
      },
      "execution_count": null,
      "outputs": []
    },
    {
      "cell_type": "code",
      "source": [
        "#df=df.sample(10000)"
      ],
      "metadata": {
        "id": "kmT5Gds9WI2g"
      },
      "execution_count": null,
      "outputs": []
    },
    {
      "cell_type": "code",
      "source": [
        "# forming in binary\n",
        "\n",
        "df['sentiment'].replace({'positive':1,'negative':0},inplace=True)"
      ],
      "metadata": {
        "id": "QvgIlnN3xcG7"
      },
      "execution_count": null,
      "outputs": []
    },
    {
      "cell_type": "code",
      "source": [
        "df.head(10)"
      ],
      "metadata": {
        "id": "2oIdkJ1dx0Hz"
      },
      "execution_count": null,
      "outputs": []
    },
    {
      "cell_type": "code",
      "source": [
        "#testing code can be remove\n",
        "\n",
        "import re\n",
        "clean=re.compile('<.*?>')\n",
        "re.sub(clean,'',df.iloc[2].review)"
      ],
      "metadata": {
        "id": "s2Egz2Xvx8kQ"
      },
      "execution_count": null,
      "outputs": []
    },
    {
      "cell_type": "code",
      "source": [
        "#  Function for cleaning the html tags\n",
        "\n",
        "def clean_html(text):\n",
        "    clean=re.compile('<.*?>')\n",
        "    return re.sub(clean,'',text)"
      ],
      "metadata": {
        "id": "LcRzbyI5ykn0"
      },
      "execution_count": null,
      "outputs": []
    },
    {
      "cell_type": "code",
      "source": [
        "df['review']=df['review'].apply(clean_html)\n",
        "df.head()"
      ],
      "metadata": {
        "id": "F8bL2Gobzsy6"
      },
      "execution_count": null,
      "outputs": []
    },
    {
      "cell_type": "code",
      "source": [
        "#function to make all letters in lower case\n",
        "\n",
        "def convert_lower(text):\n",
        "    return text.lower()"
      ],
      "metadata": {
        "id": "PmJ0Vgrwz_sb"
      },
      "execution_count": null,
      "outputs": []
    },
    {
      "cell_type": "code",
      "source": [
        "df['review']=df['review'].apply(convert_lower)\n",
        "df.head(10)"
      ],
      "metadata": {
        "id": "GVzBpnGW0T2Y"
      },
      "execution_count": null,
      "outputs": []
    },
    {
      "cell_type": "code",
      "source": [
        "#function to remove special chareacters form the reviews\n",
        "\n",
        "def remove_special(text):\n",
        "    x=''\n",
        "    for i in text:\n",
        "        if i.isalnum():\n",
        "            x=x+i\n",
        "        else:\n",
        "            x=x+' '\n",
        "    return x"
      ],
      "metadata": {
        "id": "Vp_wXrTA0YuG"
      },
      "execution_count": null,
      "outputs": []
    },
    {
      "cell_type": "code",
      "source": [
        "df['review']=df['review'].apply(remove_special)\n",
        "df.head(10)"
      ],
      "metadata": {
        "id": "sHUnbCIL0ucF"
      },
      "execution_count": null,
      "outputs": []
    },
    {
      "cell_type": "code",
      "source": [
        "#removing the stop words\n",
        "\n",
        "import nltk\n",
        "from nltk.corpus import stopwords\n",
        "nltk.download('stopwords')\n"
      ],
      "metadata": {
        "id": "qHoMe-d10141"
      },
      "execution_count": null,
      "outputs": []
    },
    {
      "cell_type": "code",
      "source": [
        "# shows all the stop words from that language\n",
        "\n",
        "stopwords.words('english')"
      ],
      "metadata": {
        "id": "PNJnTDCo1OPB"
      },
      "execution_count": null,
      "outputs": []
    },
    {
      "cell_type": "code",
      "source": [
        "#method 1\n",
        "def remove_stopwords(text):\n",
        "    x=[]\n",
        "    for i in text.split():\n",
        "        if i not in stopwords.words('english'):\n",
        "            x.append(i)\n",
        "    y=x[:]\n",
        "    x.clear()\n",
        "    return y"
      ],
      "metadata": {
        "id": "LfUJZM091Q_j"
      },
      "execution_count": null,
      "outputs": []
    },
    {
      "cell_type": "code",
      "source": [
        "#method 2 -good\n",
        "from nltk.corpus import stopwords\n",
        "\n",
        "def remove_stopwords(text):\n",
        "    stop_words = set(stopwords.words('english'))  # Use set for faster lookup\n",
        "    return [word for word in text.split() if word not in stop_words]"
      ],
      "metadata": {
        "id": "ci9l7UyuHwA4"
      },
      "execution_count": null,
      "outputs": []
    },
    {
      "cell_type": "code",
      "source": [
        "df['review']=df['review'].apply(remove_stopwords)\n",
        "df.head(10)"
      ],
      "metadata": {
        "id": "lfwmYiM71kCy"
      },
      "execution_count": null,
      "outputs": []
    },
    {
      "cell_type": "code",
      "source": [
        "#stemming means it take all similar words as coommon name from them\n",
        "\n",
        "import nltk\n",
        "from nltk.stem.porter import PorterStemmer\n",
        "ps=PorterStemmer()"
      ],
      "metadata": {
        "id": "cc_4aR3q1nyU"
      },
      "execution_count": null,
      "outputs": []
    },
    {
      "cell_type": "code",
      "source": [
        "#method 1 good\n",
        "y=[]\n",
        "\n",
        "def stem_words(text):\n",
        "    for i in text:\n",
        "        y.append(ps.stem(i))\n",
        "    z=y[:]\n",
        "    y.clear()\n",
        "    return z"
      ],
      "metadata": {
        "id": "FTIcJRtT1-_k"
      },
      "execution_count": null,
      "outputs": []
    },
    {
      "cell_type": "code",
      "source": [
        "#method2\n",
        "\n",
        "from nltk.stem import PorterStemmer\n",
        "\n",
        "def stem_words(text):\n",
        "    ps = PorterStemmer()  # Instantiate the stemmer outside the loop\n",
        "    return [ps.stem(word) for word in text]\n"
      ],
      "metadata": {
        "id": "3yS7YxwcJJHY"
      },
      "execution_count": null,
      "outputs": []
    },
    {
      "cell_type": "code",
      "source": [
        "df['review']=df['review'].apply(stem_words)\n",
        "df.head(10)"
      ],
      "metadata": {
        "id": "kF6cJbNV2UqW"
      },
      "execution_count": null,
      "outputs": []
    },
    {
      "cell_type": "code",
      "source": [
        "#join funcuation\n",
        "\n",
        "def join_back(list_input):\n",
        "    return \" \".join(list_input)"
      ],
      "metadata": {
        "id": "DMA5KhaO2k1I"
      },
      "execution_count": null,
      "outputs": []
    },
    {
      "cell_type": "code",
      "source": [
        "df['review']=df['review'].apply(join_back)\n",
        "df.head(10)"
      ],
      "metadata": {
        "id": "DJ3VbzO426fs"
      },
      "execution_count": null,
      "outputs": []
    },
    {
      "cell_type": "code",
      "source": [
        "df['review'][0]"
      ],
      "metadata": {
        "id": "N1fv3BwL28O-"
      },
      "execution_count": null,
      "outputs": []
    },
    {
      "cell_type": "code",
      "source": [
        "x=df.iloc[:,0:1].values\n",
        "x.shape"
      ],
      "metadata": {
        "id": "gzt3FFnN3cnt"
      },
      "execution_count": null,
      "outputs": []
    },
    {
      "cell_type": "code",
      "source": [
        "#method1\n",
        "\n",
        "from sklearn.feature_extraction.text import CountVectorizer\n",
        "cv=CountVectorizer(max_features=1000)"
      ],
      "metadata": {
        "id": "VjOMUuRY7zUn"
      },
      "execution_count": null,
      "outputs": []
    },
    {
      "cell_type": "code",
      "source": [
        "x=cv.fit_transform(df['review']).toarray()\n"
      ],
      "metadata": {
        "id": "__RDbgpe8cvi"
      },
      "execution_count": null,
      "outputs": []
    },
    {
      "cell_type": "code",
      "source": [
        "#method2\n",
        "\n",
        "\n",
        "from sklearn.feature_extraction.text import CountVectorizer\n",
        "\n",
        "# Configure CountVectorizer with options for speed and memory efficiency\n",
        "cv = CountVectorizer(max_features=1000, stop_words='english')  # Adjust max_features as needed\n",
        "\n",
        "# Fit and transform without converting to a dense array (keeps it as a sparse matrix)\n",
        "x = cv.fit_transform(df['review'])\n"
      ],
      "metadata": {
        "id": "F5NSXlQpKrmS"
      },
      "execution_count": null,
      "outputs": []
    },
    {
      "cell_type": "code",
      "source": [
        "x.shape"
      ],
      "metadata": {
        "id": "EKvhjAFO8hU1"
      },
      "execution_count": null,
      "outputs": []
    },
    {
      "cell_type": "code",
      "source": [
        "x"
      ],
      "metadata": {
        "id": "c7ahLxAnkYCa"
      },
      "execution_count": null,
      "outputs": []
    },
    {
      "cell_type": "code",
      "source": [
        "x[0].max()\n"
      ],
      "metadata": {
        "id": "_xy8FWhQ8ixK"
      },
      "execution_count": null,
      "outputs": []
    },
    {
      "cell_type": "code",
      "source": [
        "y=df.iloc[:,-1].values"
      ],
      "metadata": {
        "id": "JMoq-7bG9Ooo"
      },
      "execution_count": null,
      "outputs": []
    },
    {
      "cell_type": "code",
      "source": [
        "y.shape"
      ],
      "metadata": {
        "id": "eIuC5-Ab9WPy"
      },
      "execution_count": null,
      "outputs": []
    },
    {
      "cell_type": "code",
      "source": [
        "# splitting my data set into x and y i.e training set and testing set\n",
        "\n",
        "from sklearn.model_selection import train_test_split\n",
        "x_train,x_test,y_train,y_test=train_test_split(x,y,test_size=0.2,random_state=0)"
      ],
      "metadata": {
        "id": "s_CiZ7kV9kQt"
      },
      "execution_count": null,
      "outputs": []
    },
    {
      "cell_type": "code",
      "source": [
        "x_test.shape"
      ],
      "metadata": {
        "id": "IyPYoOnE-QPE"
      },
      "execution_count": null,
      "outputs": []
    },
    {
      "cell_type": "code",
      "source": [
        "x_train.shape"
      ],
      "metadata": {
        "id": "0ubsPhjb-ssd"
      },
      "execution_count": null,
      "outputs": []
    },
    {
      "cell_type": "code",
      "source": [
        "y_train.shape"
      ],
      "metadata": {
        "id": "EswLm1CZ-vtZ"
      },
      "execution_count": null,
      "outputs": []
    },
    {
      "cell_type": "code",
      "source": [
        "y_test.shape"
      ],
      "metadata": {
        "id": "p9JSRJno-26-"
      },
      "execution_count": null,
      "outputs": []
    },
    {
      "cell_type": "code",
      "source": [
        "from sklearn.naive_bayes import GaussianNB,MultinomialNB,BernoulliNB\n"
      ],
      "metadata": {
        "id": "WcZuGoV2-5yu"
      },
      "execution_count": null,
      "outputs": []
    },
    {
      "cell_type": "code",
      "source": [
        "gcl=GaussianNB()\n",
        "gcl.fit(x_train,y_train)"
      ],
      "metadata": {
        "id": "WBbjT87T_fa_"
      },
      "execution_count": null,
      "outputs": []
    },
    {
      "cell_type": "code",
      "source": [
        "y_pred_gcl=gcl.predict(x_test)\n",
        "y_pred_gcl"
      ],
      "metadata": {
        "id": "nq78VsWyAv1H"
      },
      "execution_count": null,
      "outputs": []
    },
    {
      "cell_type": "code",
      "source": [
        "mcl=MultinomialNB()\n",
        "mcl.fit(x_train,y_train)"
      ],
      "metadata": {
        "id": "OTm9U7jlAcPs"
      },
      "execution_count": null,
      "outputs": []
    },
    {
      "cell_type": "code",
      "source": [
        "y_pred_mcl=mcl.predict(x_test)\n",
        "y_pred_mcl"
      ],
      "metadata": {
        "id": "vbeg4m-PA-lT"
      },
      "execution_count": null,
      "outputs": []
    },
    {
      "cell_type": "code",
      "source": [
        "bcl=BernoulliNB()\n",
        "bcl.fit(x_train,y_train)"
      ],
      "metadata": {
        "id": "OD0CfAtKAeIf"
      },
      "execution_count": null,
      "outputs": []
    },
    {
      "cell_type": "code",
      "source": [
        "y_pred_bcl=bcl.predict(x_test)\n",
        "y_pred_bcl"
      ],
      "metadata": {
        "id": "mt9ElXsyAueT"
      },
      "execution_count": null,
      "outputs": []
    },
    {
      "cell_type": "code",
      "source": [
        "from sklearn.metrics import accuracy_score,confusion_matrix,precision_score"
      ],
      "metadata": {
        "id": "OwQDwO6W_vs1"
      },
      "execution_count": null,
      "outputs": []
    },
    {
      "cell_type": "code",
      "source": [
        "print('GaussianNB',accuracy_score(y_test,y_pred_gcl))\n",
        "print('GaussianNB',precision_score(y_test,y_pred_gcl))\n"
      ],
      "metadata": {
        "id": "Oegr1BpkBXfP"
      },
      "execution_count": null,
      "outputs": []
    },
    {
      "cell_type": "code",
      "source": [
        "print('MultinomialNB',accuracy_score(y_test,y_pred_mcl))\n",
        "print('MultinomialNB',precision_score(y_test,y_pred_mcl))"
      ],
      "metadata": {
        "id": "rLlMAXynBmmL"
      },
      "execution_count": null,
      "outputs": []
    },
    {
      "cell_type": "code",
      "source": [
        "print('BernoulliNB',accuracy_score(y_test,y_pred_bcl))\n",
        "print('BernoulliNB',precision_score(y_test,y_pred_bcl))"
      ],
      "metadata": {
        "id": "k7sZlaDdBm2E"
      },
      "execution_count": null,
      "outputs": []
    },
    {
      "cell_type": "code",
      "source": [
        "import pandas as pd\n",
        "from sklearn.metrics.pairwise import cosine_similarity\n",
        "from textblob import TextBlob\n",
        "import numpy as np\n",
        "\n",
        "# Load review dataset\n",
        "reviews = pd.read_csv('/content/Reviews.csv')\n",
        "\n",
        "# Compute sentiment scores for each review\n",
        "def get_sentiment(review):\n",
        "    blob = TextBlob(review)\n",
        "    return blob.sentiment.polarity\n",
        "\n",
        "# Calculate sentiment scores and normalize\n",
        "reviews['sentiment_score'] = reviews['review'].apply(get_sentiment)\n",
        "reviews['normalized_sentiment'] = (reviews['sentiment_score'] + 1) / 2  # Normalize to [0,1]\n",
        "\n",
        "# Create cosine similarity matrix based on `x` (the count vectorized review data)\n",
        "content_similarity = cosine_similarity(x)\n",
        "\n",
        "# Integrate sentiment into the recommendation function\n",
        "def recommend(movie):\n",
        "    index = new[new['title'] == movie].index[0]\n",
        "    distances = list(enumerate(content_similarity[index]))\n",
        "\n",
        "    # Integrate with sentiment scores\n",
        "    recommendations = []\n",
        "    for i, score in distances:\n",
        "        if i != index:  # Skip the same movie\n",
        "            movie_title = new.iloc[i]['title']\n",
        "            # Get the average sentiment for this recommended movie\n",
        "            sentiment_score = reviews[reviews['movie_title'] == movie_title]['normalized_sentiment'].mean()\n",
        "            # Adjust similarity score based on sentiment\n",
        "            sentiment_weighted_score = score * sentiment_score\n",
        "            recommendations.append((movie_title, sentiment_weighted_score))\n",
        "\n",
        "    # Sort by combined score and return top recommendations\n",
        "    recommendations = sorted(recommendations, key=lambda x: x[1], reverse=True)[:5]\n",
        "    for rec in recommendations:\n",
        "        print(rec[0])  # Display title of recommended movies\n"
      ],
      "metadata": {
        "id": "CVh5CqoqlNbA"
      },
      "execution_count": null,
      "outputs": []
    }
  ]
}